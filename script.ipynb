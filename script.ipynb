# import nescessary library 
import pandas as pd
import numpy as np
from bs4 import BeatifulSoup