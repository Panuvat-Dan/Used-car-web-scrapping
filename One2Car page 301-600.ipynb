{
 "cells": [
  {
   "cell_type": "code",
   "execution_count": 1,
   "metadata": {},
   "outputs": [
    {
     "name": "stdout",
     "output_type": "stream",
     "text": [
      "Requirement already satisfied: fake-useragent in c:\\users\\sam\\anaconda3\\lib\\site-packages (0.1.11)\n",
      "Note: you may need to restart the kernel to use updated packages.\n"
     ]
    }
   ],
   "source": [
    "pip install fake-useragent"
   ]
  },
  {
   "cell_type": "code",
   "execution_count": 16,
   "metadata": {},
   "outputs": [],
   "source": [
    "# Import libraries\n",
    "\n",
    "from bs4 import BeautifulSoup\n",
    "from requests import get\n",
    "import pandas as pd\n",
    "import numpy as np\n",
    "from fake_useragent import UserAgent\n",
    "import requests\n",
    "\n",
    "from time import sleep\n",
    "from random import randint\n",
    "import time"
   ]
  },
  {
   "cell_type": "code",
   "execution_count": 21,
   "metadata": {},
   "outputs": [
    {
     "name": "stdout",
     "output_type": "stream",
     "text": [
      "Mozilla/5.0 (Windows NT 5.1) AppleWebKit/537.36 (KHTML, like Gecko) Chrome/41.0.2224.3 Safari/537.36\n",
      "{'User-Agent': 'Mozilla/5.0 (X11; Linux x86_64) AppleWebKit/537.36 (KHTML, like Gecko) Chrome/34.0.1847.137 Safari/4E423F'}\n"
     ]
    }
   ],
   "source": [
    "# Create fake-user agent to best agent \n",
    "\n",
    "ua = UserAgent()\n",
    "\n",
    "print(ua.chrome)\n",
    "\n",
    "header = {'User-Agent':str(ua.chrome)}\n",
    "\n",
    "print(header)"
   ]
  },
  {
   "cell_type": "code",
   "execution_count": 22,
   "metadata": {},
   "outputs": [
    {
     "data": {
      "text/plain": [
       "array([301, 302, 303, 304, 305, 306, 307, 308, 309, 310, 311, 312, 313,\n",
       "       314, 315, 316, 317, 318, 319, 320, 321, 322, 323, 324, 325, 326,\n",
       "       327, 328, 329, 330, 331, 332, 333, 334, 335, 336, 337, 338, 339,\n",
       "       340, 341, 342, 343, 344, 345, 346, 347, 348, 349, 350, 351, 352,\n",
       "       353, 354, 355, 356, 357, 358, 359, 360, 361, 362, 363, 364, 365,\n",
       "       366, 367, 368, 369, 370, 371, 372, 373, 374, 375, 376, 377, 378,\n",
       "       379, 380, 381, 382, 383, 384, 385, 386, 387, 388, 389, 390, 391,\n",
       "       392, 393, 394, 395, 396, 397, 398, 399, 400, 401, 402, 403, 404,\n",
       "       405, 406, 407, 408, 409, 410, 411, 412, 413, 414, 415, 416, 417,\n",
       "       418, 419, 420, 421, 422, 423, 424, 425, 426, 427, 428, 429, 430,\n",
       "       431, 432, 433, 434, 435, 436, 437, 438, 439, 440, 441, 442, 443,\n",
       "       444, 445, 446, 447, 448, 449, 450, 451, 452, 453, 454, 455, 456,\n",
       "       457, 458, 459, 460, 461, 462, 463, 464, 465, 466, 467, 468, 469,\n",
       "       470, 471, 472, 473, 474, 475, 476, 477, 478, 479, 480, 481, 482,\n",
       "       483, 484, 485, 486, 487, 488, 489, 490, 491, 492, 493, 494, 495,\n",
       "       496, 497, 498, 499, 500, 501, 502, 503, 504, 505, 506, 507, 508,\n",
       "       509, 510, 511, 512, 513, 514, 515, 516, 517, 518, 519, 520, 521,\n",
       "       522, 523, 524, 525, 526, 527, 528, 529, 530, 531, 532, 533, 534,\n",
       "       535, 536, 537, 538, 539, 540, 541, 542, 543, 544, 545, 546, 547,\n",
       "       548, 549, 550, 551, 552, 553, 554, 555, 556, 557, 558, 559, 560,\n",
       "       561, 562, 563, 564, 565, 566, 567, 568, 569, 570, 571, 572, 573,\n",
       "       574, 575, 576, 577, 578, 579, 580, 581, 582, 583, 584, 585, 586,\n",
       "       587, 588, 589, 590, 591, 592, 593, 594, 595, 596, 597, 598, 599,\n",
       "       600])"
      ]
     },
     "execution_count": 22,
     "metadata": {},
     "output_type": "execute_result"
    }
   ],
   "source": [
    "# Create page array to prepare iterating thorght all pages\n",
    "\n",
    "page_array = np.arange(301,601,1)\n",
    "\n",
    "page_array"
   ]
  },
  {
   "cell_type": "code",
   "execution_count": 24,
   "metadata": {
    "scrolled": true
   },
   "outputs": [],
   "source": [
    "# Retrive model info (Year + Maker + Model + EngineCC + (Year))\n",
    "\n",
    "model_info = []\n",
    "\n",
    "mileage = []\n",
    "\n",
    "gear = []\n",
    "\n",
    "province = []\n",
    "\n",
    "sell_type = []\n",
    "\n",
    "price = []\n",
    "\n",
    "for page in page_array: \n",
    "        \n",
    "\n",
    "    page = requests.get('https://www.one2car.com/รถ-สำหรับ-ขาย?page_number=' + str(page), headers=header)\n",
    "\n",
    "    soup = BeautifulSoup(page.text, 'html.parser')\n",
    "\n",
    "    pages_div = soup.find_all('div', class_='grid grid--full cf')\n",
    "\n",
    "    time.sleep(0.3)\n",
    "\n",
    "\n",
    "    for i in pages_div:\n",
    "            \n",
    "        try :\n",
    "\n",
    "            model_info.append(i.find_all('a', attrs={'class': 'ellipsize js-ellipsize-text'})[0].text.strip())\n",
    "\n",
    "            mileage.append(i.find_all('div',attrs={'class':'item push-quarter--ends soft--right push-quarter--right'})[0].text.strip())\n",
    "\n",
    "            gear.append(i.find_all('div',attrs={'class':'item push-quarter--ends'})[0].text.strip())\n",
    "\n",
    "            province.append(i.find_all('div',attrs={'class':'item push-quarter--ends'})[1].text.strip())\n",
    "\n",
    "            sell_type.append(i.find_all('div',attrs={'class':'item push-quarter--ends listing__spec--dealer'})[0].text.strip())\n",
    "\n",
    "            price.append(i.find_all(\"div\", attrs = {\"class\" : \"two-thirds\"})[0].text.strip())\n",
    "                \n",
    "        except (IndexError,NameError):\n",
    "                \n",
    "            pass\n",
    "            \n",
    "        continue    \n",
    "              \n"
   ]
  },
  {
   "cell_type": "code",
   "execution_count": 26,
   "metadata": {},
   "outputs": [],
   "source": [
    "# Create dataframe to excel\n",
    "\n",
    "data = pd.DataFrame({\"model_info\" : model_info, \"mileage(km)\" : mileage, \"gear_type\" : gear, \"province\": province, \"Price\" : price})[[\"model_info\", \"mileage(km)\", \"gear_type\", \"province\", \"Price\"]]\n",
    "data.head()\n",
    "data.to_excel('One2Car_list_Dec2020_page301-600.xlsx')"
   ]
  },
  {
   "cell_type": "code",
   "execution_count": null,
   "metadata": {},
   "outputs": [],
   "source": []
  }
 ],
 "metadata": {
  "kernelspec": {
   "display_name": "Python 3",
   "language": "python",
   "name": "python3"
  },
  "language_info": {
   "codemirror_mode": {
    "name": "ipython",
    "version": 3
   },
   "file_extension": ".py",
   "mimetype": "text/x-python",
   "name": "python",
   "nbconvert_exporter": "python",
   "pygments_lexer": "ipython3",
   "version": "3.8.3"
  }
 },
 "nbformat": 4,
 "nbformat_minor": 4
}
