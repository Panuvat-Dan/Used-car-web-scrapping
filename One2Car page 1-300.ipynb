{
 "cells": [
  {
   "cell_type": "code",
   "execution_count": 2,
   "metadata": {},
   "outputs": [
    {
     "name": "stdout",
     "output_type": "stream",
     "text": [
      "Requirement already satisfied: fake-useragent in c:\\users\\sam\\anaconda3\\lib\\site-packages (0.1.11)\n",
      "Note: you may need to restart the kernel to use updated packages.\n"
     ]
    }
   ],
   "source": [
    "pip install fake-useragent"
   ]
  },
  {
   "cell_type": "code",
   "execution_count": 3,
   "metadata": {},
   "outputs": [],
   "source": [
    "# Import libraries\n",
    "\n",
    "from bs4 import BeautifulSoup\n",
    "from requests import get\n",
    "import pandas as pd\n",
    "import numpy as np\n",
    "from fake_useragent import UserAgent\n",
    "import requests\n",
    "\n",
    "from time import sleep\n",
    "from random import randint\n",
    "import time"
   ]
  },
  {
   "cell_type": "code",
   "execution_count": 12,
   "metadata": {},
   "outputs": [
    {
     "name": "stdout",
     "output_type": "stream",
     "text": [
      "Mozilla/5.0 (Macintosh; Intel Mac OS X 10_8_3) AppleWebKit/537.36 (KHTML, like Gecko) Chrome/54.0.2866.71 Safari/537.36\n",
      "{'User-Agent': 'Mozilla/5.0 (Windows NT 4.0; WOW64) AppleWebKit/537.36 (KHTML, like Gecko) Chrome/37.0.2049.0 Safari/537.36'}\n"
     ]
    }
   ],
   "source": [
    "# Create fake-user agent to best agent \n",
    "\n",
    "ua = UserAgent()\n",
    "\n",
    "print(ua.chrome)\n",
    "\n",
    "header = {'User-Agent':str(ua.chrome)}\n",
    "\n",
    "print(header)"
   ]
  },
  {
   "cell_type": "code",
   "execution_count": 13,
   "metadata": {},
   "outputs": [
    {
     "data": {
      "text/plain": [
       "array([  1,   2,   3,   4,   5,   6,   7,   8,   9,  10,  11,  12,  13,\n",
       "        14,  15,  16,  17,  18,  19,  20,  21,  22,  23,  24,  25,  26,\n",
       "        27,  28,  29,  30,  31,  32,  33,  34,  35,  36,  37,  38,  39,\n",
       "        40,  41,  42,  43,  44,  45,  46,  47,  48,  49,  50,  51,  52,\n",
       "        53,  54,  55,  56,  57,  58,  59,  60,  61,  62,  63,  64,  65,\n",
       "        66,  67,  68,  69,  70,  71,  72,  73,  74,  75,  76,  77,  78,\n",
       "        79,  80,  81,  82,  83,  84,  85,  86,  87,  88,  89,  90,  91,\n",
       "        92,  93,  94,  95,  96,  97,  98,  99, 100, 101, 102, 103, 104,\n",
       "       105, 106, 107, 108, 109, 110, 111, 112, 113, 114, 115, 116, 117,\n",
       "       118, 119, 120, 121, 122, 123, 124, 125, 126, 127, 128, 129, 130,\n",
       "       131, 132, 133, 134, 135, 136, 137, 138, 139, 140, 141, 142, 143,\n",
       "       144, 145, 146, 147, 148, 149, 150, 151, 152, 153, 154, 155, 156,\n",
       "       157, 158, 159, 160, 161, 162, 163, 164, 165, 166, 167, 168, 169,\n",
       "       170, 171, 172, 173, 174, 175, 176, 177, 178, 179, 180, 181, 182,\n",
       "       183, 184, 185, 186, 187, 188, 189, 190, 191, 192, 193, 194, 195,\n",
       "       196, 197, 198, 199, 200, 201, 202, 203, 204, 205, 206, 207, 208,\n",
       "       209, 210, 211, 212, 213, 214, 215, 216, 217, 218, 219, 220, 221,\n",
       "       222, 223, 224, 225, 226, 227, 228, 229, 230, 231, 232, 233, 234,\n",
       "       235, 236, 237, 238, 239, 240, 241, 242, 243, 244, 245, 246, 247,\n",
       "       248, 249, 250, 251, 252, 253, 254, 255, 256, 257, 258, 259, 260,\n",
       "       261, 262, 263, 264, 265, 266, 267, 268, 269, 270, 271, 272, 273,\n",
       "       274, 275, 276, 277, 278, 279, 280, 281, 282, 283, 284, 285, 286,\n",
       "       287, 288, 289, 290, 291, 292, 293, 294, 295, 296, 297, 298, 299,\n",
       "       300])"
      ]
     },
     "execution_count": 13,
     "metadata": {},
     "output_type": "execute_result"
    }
   ],
   "source": [
    "# Create page array to prepare iterating thorght all pages\n",
    "\n",
    "page_array = np.arange(1,301,1)\n",
    "\n",
    "page_array"
   ]
  },
  {
   "cell_type": "code",
   "execution_count": 14,
   "metadata": {
    "scrolled": true
   },
   "outputs": [],
   "source": [
    "# Retrive model info (Year + Maker + Model + EngineCC + (Year))\n",
    "\n",
    "model_info = []\n",
    "\n",
    "mileage = []\n",
    "\n",
    "gear = []\n",
    "\n",
    "province = []\n",
    "\n",
    "sell_type = []\n",
    "\n",
    "price = []\n",
    "\n",
    "for page in page_array: \n",
    "        \n",
    "\n",
    "    page = requests.get('https://www.one2car.com/รถ-สำหรับ-ขาย?page_number=' + str(page), headers=header)\n",
    "\n",
    "    soup = BeautifulSoup(page.text, 'html.parser')\n",
    "\n",
    "    pages_div = soup.find_all('div', class_='grid grid--full cf')\n",
    "\n",
    "    time.sleep(0.3)\n",
    "\n",
    "\n",
    "    for i in pages_div:\n",
    "            \n",
    "        try :\n",
    "\n",
    "            model_info.append(i.find_all('a', attrs={'class': 'ellipsize js-ellipsize-text'})[0].text.strip())\n",
    "\n",
    "            mileage.append(i.find_all('div',attrs={'class':'item push-quarter--ends soft--right push-quarter--right'})[0].text.strip())\n",
    "\n",
    "            gear.append(i.find_all('div',attrs={'class':'item push-quarter--ends'})[0].text.strip())\n",
    "\n",
    "            province.append(i.find_all('div',attrs={'class':'item push-quarter--ends'})[1].text.strip())\n",
    "\n",
    "            sell_type.append(i.find_all('div',attrs={'class':'item push-quarter--ends listing__spec--dealer'})[0].text.strip())\n",
    "\n",
    "            price.append(i.find_all(\"div\", attrs = {\"class\" : \"two-thirds\"})[0].text.strip())\n",
    "                \n",
    "        except (IndexError,NameError):\n",
    "                \n",
    "            pass\n",
    "            \n",
    "        continue    \n",
    "              \n"
   ]
  },
  {
   "cell_type": "code",
   "execution_count": 16,
   "metadata": {},
   "outputs": [],
   "source": [
    "# Create dataframe to excel\n",
    "\n",
    "data = pd.DataFrame({\"model_info\" : model_info, \"mileage(km)\" : mileage, \"gear_type\" : gear, \"province\": province, \"Price\" : price})[[\"model_info\", \"mileage(km)\", \"gear_type\", \"province\", \"Price\"]]\n",
    "data.head()\n",
    "data.to_excel('One2Car_list_Dec2020_page1-300.xlsx')"
   ]
  },
  {
   "cell_type": "code",
   "execution_count": null,
   "metadata": {},
   "outputs": [],
   "source": []
  }
 ],
 "metadata": {
  "kernelspec": {
   "display_name": "Python 3",
   "language": "python",
   "name": "python3"
  },
  "language_info": {
   "codemirror_mode": {
    "name": "ipython",
    "version": 3
   },
   "file_extension": ".py",
   "mimetype": "text/x-python",
   "name": "python",
   "nbconvert_exporter": "python",
   "pygments_lexer": "ipython3",
   "version": "3.8.3"
  }
 },
 "nbformat": 4,
 "nbformat_minor": 4
}
